{
 "cells": [
  {
   "cell_type": "markdown",
   "metadata": {},
   "source": [
    "#K-means"
   ]
  },
  {
   "cell_type": "markdown",
   "metadata": {},
   "source": [
    "###Iris Data(https://en.wikipedia.org/wiki/Iris_flower_data_set)\n",
    "* Sepal length\t\n",
    "* Sepal width\t\n",
    "* Petal length\t\n",
    "* Petal width"
   ]
  },
  {
   "cell_type": "code",
   "execution_count": 4,
   "metadata": {
    "collapsed": true
   },
   "outputs": [],
   "source": [
    "from pyspark.mllib.linalg import Vectors\n",
    "from pyspark.mllib.stat import Statistics"
   ]
  },
  {
   "cell_type": "code",
   "execution_count": 5,
   "metadata": {
    "collapsed": false,
    "scrolled": true
   },
   "outputs": [
    {
     "name": "stdout",
     "output_type": "stream",
     "text": [
      "SLF4J: Class path contains multiple SLF4J bindings.\n",
      "SLF4J: Found binding in [jar:file:/usr/lib/hadoop/lib/camus-example-0.1.0-SNAPSHOT-shaded.jar!/org/slf4j/impl/StaticLoggerBinder.class]\n",
      "SLF4J: Found binding in [jar:file:/usr/lib/zookeeper/lib/slf4j-log4j12-1.6.1.jar!/org/slf4j/impl/StaticLoggerBinder.class]\n",
      "SLF4J: See http://www.slf4j.org/codes.html#multiple_bindings for an explanation.\n",
      "5.1\t3.5\t1.4\t0.2\n",
      "4.9\t3.0\t1.4\t0.2\n",
      "4.7\t3.2\t1.3\t0.2\n",
      "4.6\t3.1\t1.5\t0.2\n",
      "5.0\t3.6\t1.4\t0.2\n",
      "5.4\t3.9\t1.7\t0.4\n",
      "4.6\t3.4\t1.4\t0.3\n",
      "5.0\t3.4\t1.5\t0.2\n",
      "4.4\t2.9\t1.4\t0.2\n",
      "4.9\t3.1\t1.5\t0.1\n",
      "5.4\t3.7\t1.5\t0.2\n",
      "4.8\t3.4\t1.6\t0.2\n",
      "4.8\t3.0\t1.4\t0.1\n",
      "4.3\t3.0\t1.1\t0.1\n",
      "5.8\t4.0\t1.2\t0.2\n",
      "5.7\t4.4\t1.5\t0.4\n",
      "5.4\t3.9\t1.3\t0.4\n",
      "5.1\t3.5\t1.4\t0.3\n",
      "5.7\t3.8\t1.7\t0.3\n",
      "5.1\t3.8\t1.5\t0.3\n",
      "5.4\t3.4\t1.7\t0.2\n",
      "5.1\t3.7\t1.5\t0.4\n",
      "4.6\t3.6\t1.0\t0.2\n",
      "5.1\t3.3\t1.7\t0.5\n",
      "4.8\t3.4\t1.9\t0.2\n",
      "5.0\t3.0\t1.6\t0.2\n",
      "5.0\t3.4\t1.6\t0.4\n",
      "5.2\t3.5\t1.5\t0.2\n",
      "5.2\t3.4\t1.4\t0.2\n",
      "4.7\t3.2\t1.6\t0.2\n",
      "4.8\t3.1\t1.6\t0.2\n",
      "5.4\t3.4\t1.5\t0.4\n",
      "5.2\t4.1\t1.5\t0.1\n",
      "5.5\t4.2\t1.4\t0.2\n",
      "4.9\t3.1\t1.5\t0.2\n",
      "5.0\t3.2\t1.2\t0.2\n",
      "5.5\t3.5\t1.3\t0.2\n",
      "4.9\t3.6\t1.4\t0.1\n",
      "4.4\t3.0\t1.3\t0.2\n",
      "5.1\t3.4\t1.5\t0.2\n",
      "5.0\t3.5\t1.3\t0.3\n",
      "4.5\t2.3\t1.3\t0.3\n",
      "4.4\t3.2\t1.3\t0.2\n",
      "5.0\t3.5\t1.6\t0.6\n",
      "5.1\t3.8\t1.9\t0.4\n",
      "4.8\t3.0\t1.4\t0.3\n",
      "5.1\t3.8\t1.6\t0.2\n",
      "4.6\t3.2\t1.4\t0.2\n",
      "5.3\t3.7\t1.5\t0.2\n",
      "5.0\t3.3\t1.4\t0.2\n",
      "7.0\t3.2\t4.7\t1.4\n",
      "6.4\t3.2\t4.5\t1.5\n",
      "6.9\t3.1\t4.9\t1.5\n",
      "5.5\t2.3\t4.0\t1.3\n",
      "6.5\t2.8\t4.6\t1.5\n",
      "5.7\t2.8\t4.5\t1.3\n",
      "6.3\t3.3\t4.7\t1.6\n",
      "4.9\t2.4\t3.3\t1.0\n",
      "6.6\t2.9\t4.6\t1.3\n",
      "5.2\t2.7\t3.9\t1.4\n",
      "5.0\t2.0\t3.5\t1.0\n",
      "5.9\t3.0\t4.2\t1.5\n",
      "6.0\t2.2\t4.0\t1.0\n",
      "6.1\t2.9\t4.7\t1.4\n",
      "5.6\t2.9\t3.6\t1.3\n",
      "6.7\t3.1\t4.4\t1.4\n",
      "5.6\t3.0\t4.5\t1.5\n",
      "5.8\t2.7\t4.1\t1.0\n",
      "6.2\t2.2\t4.5\t1.5\n",
      "5.6\t2.5\t3.9\t1.1\n",
      "5.9\t3.2\t4.8\t1.8\n",
      "6.1\t2.8\t4.0\t1.3\n",
      "6.3\t2.5\t4.9\t1.5\n",
      "6.1\t2.8\t4.7\t1.2\n",
      "6.4\t2.9\t4.3\t1.3\n",
      "6.6\t3.0\t4.4\t1.4\n",
      "6.8\t2.8\t4.8\t1.4\n",
      "6.7\t3.0\t5.0\t1.7\n",
      "6.0\t2.9\t4.5\t1.5\n",
      "5.7\t2.6\t3.5\t1.0\n",
      "5.5\t2.4\t3.8\t1.1\n",
      "5.5\t2.4\t3.7\t1.0\n",
      "5.8\t2.7\t3.9\t1.2\n",
      "6.0\t2.7\t5.1\t1.6\n",
      "5.4\t3.0\t4.5\t1.5\n",
      "6.0\t3.4\t4.5\t1.6\n",
      "6.7\t3.1\t4.7\t1.5\n",
      "6.3\t2.3\t4.4\t1.3\n",
      "5.6\t3.0\t4.1\t1.3\n",
      "5.5\t2.5\t4.0\t1.3\n",
      "5.5\t2.6\t4.4\t1.2\n",
      "6.1\t3.0\t4.6\t1.4\n",
      "5.8\t2.6\t4.0\t1.2\n",
      "5.0\t2.3\t3.3\t1.0\n",
      "5.6\t2.7\t4.2\t1.3\n",
      "5.7\t3.0\t4.2\t1.2\n",
      "5.7\t2.9\t4.2\t1.3\n",
      "6.2\t2.9\t4.3\t1.3\n",
      "5.1\t2.5\t3.0\t1.1\n",
      "5.7\t2.8\t4.1\t1.3\n",
      "6.3\t3.3\t6.0\t2.5\n",
      "5.8\t2.7\t5.1\t1.9\n",
      "7.1\t3.0\t5.9\t2.1\n",
      "6.3\t2.9\t5.6\t1.8\n",
      "6.5\t3.0\t5.8\t2.2\n",
      "7.6\t3.0\t6.6\t2.1\n",
      "4.9\t2.5\t4.5\t1.7\n",
      "7.3\t2.9\t6.3\t1.8\n",
      "6.7\t2.5\t5.8\t1.8\n",
      "7.2\t3.6\t6.1\t2.5\n",
      "6.5\t3.2\t5.1\t2.0\n",
      "6.4\t2.7\t5.3\t1.9\n",
      "6.8\t3.0\t5.5\t2.1\n",
      "5.7\t2.5\t5.0\t2.0\n",
      "5.8\t2.8\t5.1\t2.4\n",
      "6.4\t3.2\t5.3\t2.3\n",
      "6.5\t3.0\t5.5\t1.8\n",
      "7.7\t3.8\t6.7\t2.2\n",
      "7.7\t2.6\t6.9\t2.3\n",
      "6.0\t2.2\t5.0\t1.5\n",
      "6.9\t3.2\t5.7\t2.3\n",
      "5.6\t2.8\t4.9\t2.0\n",
      "7.7\t2.8\t6.7\t2.0\n",
      "6.3\t2.7\t4.9\t1.8\n",
      "6.7\t3.3\t5.7\t2.1\n",
      "7.2\t3.2\t6.0\t1.8\n",
      "6.2\t2.8\t4.8\t1.8\n",
      "6.1\t3.0\t4.9\t1.8\n",
      "6.4\t2.8\t5.6\t2.1\n",
      "7.2\t3.0\t5.8\t1.6\n",
      "7.4\t2.8\t6.1\t1.9\n",
      "7.9\t3.8\t6.4\t2.0\n",
      "6.4\t2.8\t5.6\t2.2\n",
      "6.3\t2.8\t5.1\t1.5\n",
      "6.1\t2.6\t5.6\t1.4\n",
      "7.7\t3.0\t6.1\t2.3\n",
      "6.3\t3.4\t5.6\t2.4\n",
      "6.4\t3.1\t5.5\t1.8\n",
      "6.0\t3.0\t4.8\t1.8\n",
      "6.9\t3.1\t5.4\t2.1\n",
      "6.7\t3.1\t5.6\t2.4\n",
      "6.9\t3.1\t5.1\t2.3\n",
      "5.8\t2.7\t5.1\t1.9\n",
      "6.8\t3.2\t5.9\t2.3\n",
      "6.7\t3.3\t5.7\t2.5\n",
      "6.7\t3.0\t5.2\t2.3\n",
      "6.3\t2.5\t5.0\t1.9\n",
      "6.5\t3.0\t5.2\t2.0\n",
      "6.2\t3.4\t5.4\t2.3\n",
      "5.9\t3.0\t5.1\t1.8\n"
     ]
    }
   ],
   "source": [
    "!hadoop fs -cat /user/bryan/iris.txt"
   ]
  },
  {
   "cell_type": "code",
   "execution_count": 6,
   "metadata": {
    "collapsed": true
   },
   "outputs": [],
   "source": [
    "iris_data = sc.textFile(\"hdfs://bi-hd01:9000/user/bryan/iris.txt\")"
   ]
  },
  {
   "cell_type": "code",
   "execution_count": 7,
   "metadata": {
    "collapsed": false
   },
   "outputs": [
    {
     "data": {
      "text/plain": [
       "[u'5.1\\t3.5\\t1.4\\t0.2',\n",
       " u'4.9\\t3.0\\t1.4\\t0.2',\n",
       " u'4.7\\t3.2\\t1.3\\t0.2',\n",
       " u'4.6\\t3.1\\t1.5\\t0.2',\n",
       " u'5.0\\t3.6\\t1.4\\t0.2']"
      ]
     },
     "execution_count": 7,
     "metadata": {},
     "output_type": "execute_result"
    }
   ],
   "source": [
    "iris_data.take(5)"
   ]
  },
  {
   "cell_type": "code",
   "execution_count": 8,
   "metadata": {
    "collapsed": false
   },
   "outputs": [
    {
     "data": {
      "text/plain": [
       "150"
      ]
     },
     "execution_count": 8,
     "metadata": {},
     "output_type": "execute_result"
    }
   ],
   "source": [
    "iris_data.count()"
   ]
  },
  {
   "cell_type": "code",
   "execution_count": 9,
   "metadata": {
    "collapsed": false
   },
   "outputs": [],
   "source": [
    "def parse_data(data):\n",
    "    return data.map(lambda x : x.split('\\t')).map(lambda x : Vectors.dense(x))"
   ]
  },
  {
   "cell_type": "code",
   "execution_count": 10,
   "metadata": {
    "collapsed": true
   },
   "outputs": [],
   "source": [
    "parsedData = parse_data(iris_data)"
   ]
  },
  {
   "cell_type": "code",
   "execution_count": 13,
   "metadata": {
    "collapsed": false
   },
   "outputs": [
    {
     "data": {
      "text/plain": [
       "[DenseVector([5.1, 3.5, 1.4, 0.2]),\n",
       " DenseVector([4.9, 3.0, 1.4, 0.2]),\n",
       " DenseVector([4.7, 3.2, 1.3, 0.2]),\n",
       " DenseVector([4.6, 3.1, 1.5, 0.2]),\n",
       " DenseVector([5.0, 3.6, 1.4, 0.2])]"
      ]
     },
     "execution_count": 13,
     "metadata": {},
     "output_type": "execute_result"
    }
   ],
   "source": [
    "parsedData.take(5)"
   ]
  },
  {
   "cell_type": "code",
   "execution_count": null,
   "metadata": {
    "collapsed": true
   },
   "outputs": [],
   "source": [
    "statData = Statistics.colStats(parseData)"
   ]
  },
  {
   "cell_type": "code",
   "execution_count": null,
   "metadata": {
    "collapsed": false
   },
   "outputs": [],
   "source": [
    "statData.mean()"
   ]
  },
  {
   "cell_type": "code",
   "execution_count": null,
   "metadata": {
    "collapsed": false
   },
   "outputs": [],
   "source": [
    "print(statData.max())\n",
    "print(statData.min())"
   ]
  },
  {
   "cell_type": "markdown",
   "metadata": {
    "collapsed": true
   },
   "source": [
    "#K-means"
   ]
  },
  {
   "cell_type": "code",
   "execution_count": 14,
   "metadata": {
    "collapsed": true
   },
   "outputs": [],
   "source": [
    "from pyspark.mllib.clustering import KMeans, KMeansModel"
   ]
  },
  {
   "cell_type": "code",
   "execution_count": 44,
   "metadata": {
    "collapsed": true
   },
   "outputs": [],
   "source": [
    "model = KMeans.train(parsedData, 3)"
   ]
  },
  {
   "cell_type": "code",
   "execution_count": 45,
   "metadata": {
    "collapsed": false
   },
   "outputs": [
    {
     "data": {
      "text/plain": [
       "[array([ 6.85384615,  3.07692308,  5.71538462,  2.05384615]),\n",
       " array([ 5.006,  3.428,  1.462,  0.246]),\n",
       " array([ 5.88360656,  2.74098361,  4.38852459,  1.43442623])]"
      ]
     },
     "execution_count": 45,
     "metadata": {},
     "output_type": "execute_result"
    }
   ],
   "source": [
    "model.clusterCenters"
   ]
  },
  {
   "cell_type": "code",
   "execution_count": 31,
   "metadata": {
    "collapsed": true
   },
   "outputs": [],
   "source": [
    "a = [6.3, 2.8, 4.9, 1.7]"
   ]
  },
  {
   "cell_type": "code",
   "execution_count": 32,
   "metadata": {
    "collapsed": true
   },
   "outputs": [],
   "source": [
    "b = [5, 3.6, 2, 1]"
   ]
  },
  {
   "cell_type": "code",
   "execution_count": 33,
   "metadata": {
    "collapsed": false
   },
   "outputs": [
    {
     "data": {
      "text/plain": [
       "2"
      ]
     },
     "execution_count": 33,
     "metadata": {},
     "output_type": "execute_result"
    }
   ],
   "source": [
    "model.predict(a)"
   ]
  },
  {
   "cell_type": "code",
   "execution_count": 34,
   "metadata": {
    "collapsed": false
   },
   "outputs": [
    {
     "data": {
      "text/plain": [
       "1"
      ]
     },
     "execution_count": 34,
     "metadata": {},
     "output_type": "execute_result"
    }
   ],
   "source": [
    "model.predict(b)"
   ]
  },
  {
   "cell_type": "code",
   "execution_count": 46,
   "metadata": {
    "collapsed": false
   },
   "outputs": [
    {
     "data": {
      "text/plain": [
       "defaultdict(<type 'int'>, {0: 39, 1: 50, 2: 61})"
      ]
     },
     "execution_count": 46,
     "metadata": {},
     "output_type": "execute_result"
    }
   ],
   "source": [
    "parsedData.map(lambda x: (model.predict(x),1)).countByKey()"
   ]
  },
  {
   "cell_type": "code",
   "execution_count": 48,
   "metadata": {
    "collapsed": true
   },
   "outputs": [],
   "source": [
    "from pyspark.mllib.regression import LabeledPoint\n"
   ]
  },
  {
   "cell_type": "code",
   "execution_count": 49,
   "metadata": {
    "collapsed": false
   },
   "outputs": [
    {
     "data": {
      "text/plain": [
       "[LabeledPoint(1.0, [5.1,3.5,1.4,0.2]),\n",
       " LabeledPoint(1.0, [4.9,3.0,1.4,0.2]),\n",
       " LabeledPoint(1.0, [4.7,3.2,1.3,0.2]),\n",
       " LabeledPoint(1.0, [4.6,3.1,1.5,0.2]),\n",
       " LabeledPoint(1.0, [5.0,3.6,1.4,0.2])]"
      ]
     },
     "execution_count": 49,
     "metadata": {},
     "output_type": "execute_result"
    }
   ],
   "source": [
    "parsedData.map(lambda x: LabeledPoint(model.predict(x),x)).take(5)"
   ]
  },
  {
   "cell_type": "code",
   "execution_count": null,
   "metadata": {
    "collapsed": true
   },
   "outputs": [],
   "source": []
  }
 ],
 "metadata": {
  "kernelspec": {
   "display_name": "Python 2",
   "language": "python",
   "name": "python2"
  },
  "language_info": {
   "codemirror_mode": {
    "name": "ipython",
    "version": 2
   },
   "file_extension": ".py",
   "mimetype": "text/x-python",
   "name": "python",
   "nbconvert_exporter": "python",
   "pygments_lexer": "ipython2",
   "version": "2.7.10"
  }
 },
 "nbformat": 4,
 "nbformat_minor": 0
}
